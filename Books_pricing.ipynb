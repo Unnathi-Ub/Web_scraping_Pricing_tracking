{
 "cells": [
  {
   "cell_type": "markdown",
   "id": "844e380b-c289-4afe-b5a3-f2650d957965",
   "metadata": {},
   "source": [
    "# Book Pricing"
   ]
  },
  {
   "cell_type": "code",
   "execution_count": 8,
   "id": "c7cd3c1f-bbc7-4684-ac15-7a71677b5c8f",
   "metadata": {},
   "outputs": [],
   "source": [
    "import requests\n",
    "from bs4 import BeautifulSoup\n",
    "import pandas as pd\n",
    "import os"
   ]
  },
  {
   "cell_type": "code",
   "execution_count": 9,
   "id": "2852afc4-d407-414f-8647-ea6ed5a8290f",
   "metadata": {},
   "outputs": [],
   "source": [
    "url = \"http://books.toscrape.com/\"\n",
    "response = requests.get(url)\n",
    "soup = BeautifulSoup(response.text, \"html.parser\")\n",
    "books=[]"
   ]
  },
  {
   "cell_type": "code",
   "execution_count": 10,
   "id": "f507a496-3e2e-4229-bbe2-ea0ee9668d37",
   "metadata": {},
   "outputs": [],
   "source": [
    "for iteam in soup.select(\".product_pod\"):\n",
    "    title = iteam.h3.a[\"title\"]\n",
    "    price = iteam.select_one(\".price_color\").get_text()\n",
    "    rating = iteam.p[\"class\"][1] #rating is in class attribute\n",
    "\n",
    "    books.append({\n",
    "        \"Title\":title,\n",
    "        \"Price\":price,\n",
    "        \"Rating\":rating\n",
    "    })"
   ]
  },
  {
   "cell_type": "code",
   "execution_count": 11,
   "id": "6467e93e-ab9b-4fb0-a842-838c81b16f54",
   "metadata": {},
   "outputs": [
    {
     "name": "stdout",
     "output_type": "stream",
     "text": [
      "Scraping completed! Data saved to books.csv\n"
     ]
    }
   ],
   "source": [
    "#save to CSV\n",
    "df = pd.DataFrame(books)\n",
    "df.to_csv(\"books.csv\",index=False)\n",
    "\n",
    "print(\"Scraping completed! Data saved to books.csv\")\n",
    "\n",
    "os.startfile(\"books.csv\")"
   ]
  },
  {
   "cell_type": "code",
   "execution_count": null,
   "id": "d86dc338-8fbb-4e6c-973f-60d45d0d3331",
   "metadata": {},
   "outputs": [],
   "source": []
  },
  {
   "cell_type": "code",
   "execution_count": null,
   "id": "0180e804-57f2-492f-afc8-23b5044d1741",
   "metadata": {},
   "outputs": [],
   "source": []
  }
 ],
 "metadata": {
  "kernelspec": {
   "display_name": "Python 3 (ipykernel)",
   "language": "python",
   "name": "python3"
  },
  "language_info": {
   "codemirror_mode": {
    "name": "ipython",
    "version": 3
   },
   "file_extension": ".py",
   "mimetype": "text/x-python",
   "name": "python",
   "nbconvert_exporter": "python",
   "pygments_lexer": "ipython3",
   "version": "3.11.7"
  }
 },
 "nbformat": 4,
 "nbformat_minor": 5
}
