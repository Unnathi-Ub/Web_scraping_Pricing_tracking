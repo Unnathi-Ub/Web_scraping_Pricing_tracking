{
 "cells": [
  {
   "cell_type": "markdown",
   "id": "6727f595-45c1-4bfe-866b-3c93e1c863ca",
   "metadata": {},
   "source": [
    "# Project: Real-Time E-commerce Product Price Tracker"
   ]
  },
  {
   "cell_type": "code",
   "execution_count": 2,
   "id": "b3f073af-3630-4df3-8ff4-7178f0260330",
   "metadata": {},
   "outputs": [],
   "source": [
    "# Project Overview\n",
    "# This project scrapes product details (name, price, rating, availability) from an e-commerce website (like Amazon or Flipkart).\n",
    "# It then saves the data into a CSV/Excel file and can be extended to monitor price changes daily."
   ]
  },
  {
   "cell_type": "code",
   "execution_count": 13,
   "id": "101f5bd9-4c36-4c49-a662-6c608d09e41a",
   "metadata": {},
   "outputs": [],
   "source": [
    "import requests\n",
    "from bs4 import BeautifulSoup\n",
    "import pandas as pd\n",
    "import time\n",
    "import os"
   ]
  },
  {
   "cell_type": "code",
   "execution_count": 19,
   "id": "23209857-7ca0-4fb1-b129-811eea34170f",
   "metadata": {},
   "outputs": [],
   "source": [
    "#Product urls(Sample Amazon search page or product links )\n",
    "urls = [\"https://www.amazon.in/s?k=laptop\"]\n",
    "headers = {\n",
    "    \"User-Agent\": \"Mozilla/5.0 (Windows NT 10.0; Win64; x64) AppleWebKit/537.36 \"\n",
    "                  \"(KHTML, like Gecko) Chrome/122.0.0.0 Safari/537.36\"\n",
    "}\n",
    "products = []"
   ]
  },
  {
   "cell_type": "code",
   "execution_count": 20,
   "id": "32da671d-f4bd-4696-b2d2-17bbbb50240e",
   "metadata": {},
   "outputs": [],
   "source": [
    "for url in urls:\n",
    "    response = requests.get(url, headers=headers)\n",
    "    soup = BeautifulSoup(response.content, \"html.parser\")"
   ]
  },
  {
   "cell_type": "code",
   "execution_count": 21,
   "id": "af7a4135-b7a1-4d86-abf6-ac6575b44ead",
   "metadata": {},
   "outputs": [],
   "source": [
    "#Extract product details\n",
    "for item in soup.select(\".s-reult-item\"):\n",
    "    name = item.select_one(\"2 a span\")\n",
    "    price = item.select_one(\".a-price-whole\")\n",
    "    rating = item.select_one(\".a-icon-alt\")\n",
    "\n",
    "    if name and price:\n",
    "        products.append({\n",
    "            \"Product Name\": name.get_text().strip(),\n",
    "            \"Price\" : price.get_text().strip(),\n",
    "            \"Rating\": ratin.get_text().strip() if rating else \"N/A\"\n",
    "        })\n"
   ]
  },
  {
   "cell_type": "code",
   "execution_count": 22,
   "id": "e72d8f4e-bd12-46aa-82bf-ea4caacd795a",
   "metadata": {},
   "outputs": [
    {
     "name": "stdout",
     "output_type": "stream",
     "text": [
      "Scraping Completed! Data saved to products.csv\n"
     ]
    }
   ],
   "source": [
    "#save to csv\n",
    "df = pd.DataFrame(products)\n",
    "df.to_csv(\"products.csv\", index=True)\n",
    "\n",
    "print(\"Scraping Completed! Data saved to products.csv\")\n",
    "\n",
    "\n",
    "# Open the file automatically (Windows)\n",
    "os.startfile(\"products.csv\")"
   ]
  },
  {
   "cell_type": "code",
   "execution_count": null,
   "id": "051d5483-cd29-498d-b199-0d5cfbfa7aa1",
   "metadata": {},
   "outputs": [],
   "source": []
  },
  {
   "cell_type": "code",
   "execution_count": null,
   "id": "9f52f2b7-d9a7-4bee-86bb-b97a0959f7ab",
   "metadata": {},
   "outputs": [],
   "source": []
  },
  {
   "cell_type": "code",
   "execution_count": null,
   "id": "944b5370-c54d-4642-b0aa-6effbd5f9762",
   "metadata": {},
   "outputs": [],
   "source": []
  }
 ],
 "metadata": {
  "kernelspec": {
   "display_name": "Python 3 (ipykernel)",
   "language": "python",
   "name": "python3"
  },
  "language_info": {
   "codemirror_mode": {
    "name": "ipython",
    "version": 3
   },
   "file_extension": ".py",
   "mimetype": "text/x-python",
   "name": "python",
   "nbconvert_exporter": "python",
   "pygments_lexer": "ipython3",
   "version": "3.11.7"
  }
 },
 "nbformat": 4,
 "nbformat_minor": 5
}
